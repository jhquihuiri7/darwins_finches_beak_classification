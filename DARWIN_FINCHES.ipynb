{
  "cells": [
    {
      "cell_type": "markdown",
      "metadata": {
        "id": "HnEDr5CQrLlf"
      },
      "source": [
        "# **Darwin's Finches Classification with a Multi-Layer Perceptron (MLP)**"
      ]
    },
    {
      "cell_type": "markdown",
      "metadata": {
        "id": "zHD51lh4rLlg"
      },
      "source": [
        "#### **Context**\n",
        "For the past 40-plus years (from 1973 to 2013), Peter and Rosemary Grant visited the Galápagos island of Daphne Major and collected data on Darwin's finches, to study Darwin's theory of evolution.\n",
        "\n",
        "The Grant's spend years observing, tagging, and measuring Darwin's finches and their environment. During that time they documented environmental changes and how these changes favored certain individuals within the population, illustrating natural selection in action.\n",
        "\n",
        "The dataset focuses on finches beak dimension. For the finches, the size and shape of their beaks are traits that vary to adapt the environmental changes. The relationship between beak size and ecological events which has been somewhat popularised as being an example of ‘evolution occurring before our eyes’.\n",
        "\n",
        "#### **Content**\n",
        "The dataset consist of 2 files:\n",
        "\n",
        "- Finch Beak 1975: The beak measurement of the finches recorded in 1975.\n",
        "- Finch Beak 2012: The beak measurement of the finches recorded in 2012.\n",
        "\n",
        "Darwin's finches (also known as the Galápagos finches) are a group of about 15 species of passerine birds.They are well known for their remarkable diversity in beak form and function. They are often classified as the subfamily Geospizinae or tribe Geospizini. They belong to the tanager family and are not closely related to the true finches. The closest known relative of the Galápagos finches is the South American Tiaris obscurus. They were first collected by Charles Darwin on the Galápagos Islands during the second voyage of the Beagle. Apart from the Cocos finch, which is from Cocos Island, the others are found only on the Galápagos Islands."
      ]
    },
    {
      "cell_type": "markdown",
      "metadata": {},
      "source": [
        "<div style=\"text-align: center;\">\n",
        "  <img src=\"https://www2.nau.edu/lrm22/lessons/bird_lab/finches.gif\" alt=\"Darwin Finches\" style=\"width: 60%; height: auto;\">\n",
        "</div>\n"
      ]
    },
    {
      "cell_type": "markdown",
      "metadata": {},
      "source": [
        "<img src=\"https://www.mun.ca/biology/scarr/Geospiza_beaks.jpg\" alt=\"Beaks\" style=\"width: 100%; height: auto;\">"
      ]
    },
    {
      "cell_type": "markdown",
      "metadata": {},
      "source": [
        "This diagram presents 10 species of finch on the Galapagos Islands, each filling a different niche on various islands. All of the finch species evolved from one ancestral species, which colonized the islands only a few million years ago. This process, whereby species evolve rapidly to exploit empty ecological space, is known as adaptive radiation.\n",
        "\n",
        "#### **Objective**\n",
        "\n",
        "The objective of this Jupyter notebook is to develop a predictive model that classifies the species of Darwin's finches based on beak length and beak depth measurements collected in 2012. By utilizing these morphological traits, the model will predict the species of finches observed in 2012, providing insights into how these characteristics relate to the finches' adaptive radiation and evolutionary processes. This notebook will focus on applying machine learning techniques to accurately identify finch species using the 2012 dataset, helping to explore the impact of environmental changes and natural selection on beak morphology."
      ]
    },
    {
      "cell_type": "markdown",
      "metadata": {
        "id": "Ej6V8baErLlh"
      },
      "source": [
        "#### **Phase I:** Loading and Processing the Database"
      ]
    },
    {
      "cell_type": "code",
      "execution_count": 35,
      "metadata": {
        "id": "aC7YZzRyrLli"
      },
      "outputs": [],
      "source": [
        "# Import the necessary libraries\n",
        "import matplotlib.pyplot as plt\n",
        "import pandas as pd\n",
        "from sklearn.model_selection import train_test_split\n",
        "from sklearn.neural_network import MLPClassifier\n",
        "from sklearn.metrics import accuracy_score\n",
        "from sklearn.metrics import confusion_matrix\n",
        "from sklearn.metrics import classification_report"
      ]
    },
    {
      "cell_type": "code",
      "execution_count": 36,
      "metadata": {
        "colab": {
          "base_uri": "https://localhost:8080/",
          "height": 206
        },
        "id": "bBWcLiSQrLlj",
        "outputId": "97378eac-bf21-415b-e7e9-4ed91124bafd"
      },
      "outputs": [
        {
          "data": {
            "text/html": [
              "<div>\n",
              "<style scoped>\n",
              "    .dataframe tbody tr th:only-of-type {\n",
              "        vertical-align: middle;\n",
              "    }\n",
              "\n",
              "    .dataframe tbody tr th {\n",
              "        vertical-align: top;\n",
              "    }\n",
              "\n",
              "    .dataframe thead th {\n",
              "        text-align: right;\n",
              "    }\n",
              "</style>\n",
              "<table border=\"1\" class=\"dataframe\">\n",
              "  <thead>\n",
              "    <tr style=\"text-align: right;\">\n",
              "      <th></th>\n",
              "      <th>band</th>\n",
              "      <th>species</th>\n",
              "      <th>blength</th>\n",
              "      <th>bdepth</th>\n",
              "    </tr>\n",
              "  </thead>\n",
              "  <tbody>\n",
              "    <tr>\n",
              "      <th>0</th>\n",
              "      <td>19022</td>\n",
              "      <td>fortis</td>\n",
              "      <td>10.0</td>\n",
              "      <td>8.5</td>\n",
              "    </tr>\n",
              "    <tr>\n",
              "      <th>1</th>\n",
              "      <td>19028</td>\n",
              "      <td>fortis</td>\n",
              "      <td>12.5</td>\n",
              "      <td>8.9</td>\n",
              "    </tr>\n",
              "    <tr>\n",
              "      <th>2</th>\n",
              "      <td>19032</td>\n",
              "      <td>fortis</td>\n",
              "      <td>9.3</td>\n",
              "      <td>7.5</td>\n",
              "    </tr>\n",
              "    <tr>\n",
              "      <th>3</th>\n",
              "      <td>19041</td>\n",
              "      <td>fortis</td>\n",
              "      <td>10.3</td>\n",
              "      <td>9.6</td>\n",
              "    </tr>\n",
              "    <tr>\n",
              "      <th>4</th>\n",
              "      <td>19044</td>\n",
              "      <td>fortis</td>\n",
              "      <td>11.0</td>\n",
              "      <td>9.2</td>\n",
              "    </tr>\n",
              "  </tbody>\n",
              "</table>\n",
              "</div>"
            ],
            "text/plain": [
              "    band species  blength  bdepth\n",
              "0  19022  fortis     10.0     8.5\n",
              "1  19028  fortis     12.5     8.9\n",
              "2  19032  fortis      9.3     7.5\n",
              "3  19041  fortis     10.3     9.6\n",
              "4  19044  fortis     11.0     9.2"
            ]
          },
          "execution_count": 36,
          "metadata": {},
          "output_type": "execute_result"
        }
      ],
      "source": [
        "# Load the 'palmer_penguins.csv' dataset into a Pandas DataFrame named 'pinguinos'\n",
        "finches = pd.read_csv(\"./archive/finch_beaks_2012.csv\")\n",
        "\n",
        "# Display the first 5 rows of the dataset\n",
        "finches.head()"
      ]
    },
    {
      "cell_type": "code",
      "execution_count": 37,
      "metadata": {
        "colab": {
          "base_uri": "https://localhost:8080/",
          "height": 303
        },
        "id": "gvV7k1VOrLlj",
        "outputId": "3952ff7b-b1aa-4175-afdb-248a8783bc77"
      },
      "outputs": [
        {
          "data": {
            "text/plain": [
              "band       0\n",
              "species    0\n",
              "blength    0\n",
              "bdepth     0\n",
              "dtype: int64"
            ]
          },
          "execution_count": 37,
          "metadata": {},
          "output_type": "execute_result"
        }
      ],
      "source": [
        "# We use the 'isnull()' method to identify null values and the 'sum()' method to count them\n",
        "finches.isnull().sum()"
      ]
    },
    {
      "cell_type": "code",
      "execution_count": 38,
      "metadata": {
        "colab": {
          "base_uri": "https://localhost:8080/"
        },
        "id": "LQQ1fGPwrLlj",
        "outputId": "0d31aa70-3d39-4db3-a295-1a203b9b62bb"
      },
      "outputs": [
        {
          "data": {
            "text/plain": [
              "array(['fortis', 'scandens'], dtype=object)"
            ]
          },
          "execution_count": 38,
          "metadata": {},
          "output_type": "execute_result"
        }
      ],
      "source": [
        "# We use the 'unique()' method to find the unique values in the 'species' column\n",
        "finches['species'].unique()"
      ]
    },
    {
      "cell_type": "markdown",
      "metadata": {
        "id": "ZZx-0e3NrLlk"
      },
      "source": [
        "#### **Phase II:** Preparing the data to be used in a multilayer perceptron (MLP)"
      ]
    },
    {
      "cell_type": "code",
      "execution_count": 39,
      "metadata": {
        "colab": {
          "base_uri": "https://localhost:8080/",
          "height": 206
        },
        "id": "SjZ9n04srLlk",
        "outputId": "9517dcef-9715-4e3a-f0a7-168adbaaa792"
      },
      "outputs": [
        {
          "data": {
            "text/html": [
              "<div>\n",
              "<style scoped>\n",
              "    .dataframe tbody tr th:only-of-type {\n",
              "        vertical-align: middle;\n",
              "    }\n",
              "\n",
              "    .dataframe tbody tr th {\n",
              "        vertical-align: top;\n",
              "    }\n",
              "\n",
              "    .dataframe thead th {\n",
              "        text-align: right;\n",
              "    }\n",
              "</style>\n",
              "<table border=\"1\" class=\"dataframe\">\n",
              "  <thead>\n",
              "    <tr style=\"text-align: right;\">\n",
              "      <th></th>\n",
              "      <th>blength</th>\n",
              "      <th>bdepth</th>\n",
              "    </tr>\n",
              "  </thead>\n",
              "  <tbody>\n",
              "    <tr>\n",
              "      <th>0</th>\n",
              "      <td>10.0</td>\n",
              "      <td>8.5</td>\n",
              "    </tr>\n",
              "    <tr>\n",
              "      <th>1</th>\n",
              "      <td>12.5</td>\n",
              "      <td>8.9</td>\n",
              "    </tr>\n",
              "    <tr>\n",
              "      <th>2</th>\n",
              "      <td>9.3</td>\n",
              "      <td>7.5</td>\n",
              "    </tr>\n",
              "    <tr>\n",
              "      <th>3</th>\n",
              "      <td>10.3</td>\n",
              "      <td>9.6</td>\n",
              "    </tr>\n",
              "    <tr>\n",
              "      <th>4</th>\n",
              "      <td>11.0</td>\n",
              "      <td>9.2</td>\n",
              "    </tr>\n",
              "  </tbody>\n",
              "</table>\n",
              "</div>"
            ],
            "text/plain": [
              "   blength  bdepth\n",
              "0     10.0     8.5\n",
              "1     12.5     8.9\n",
              "2      9.3     7.5\n",
              "3     10.3     9.6\n",
              "4     11.0     9.2"
            ]
          },
          "execution_count": 39,
          "metadata": {},
          "output_type": "execute_result"
        }
      ],
      "source": [
        "# Drop the 'species' and 'band' columns from the DataFrame to use the rest of the features as input (X)\n",
        "X = finches.drop(['species', 'band'], axis=1)\n",
        "\n",
        "# Display the first 5 rows of the DataFrame after dropping the columns\n",
        "X.head()"
      ]
    },
    {
      "cell_type": "code",
      "execution_count": 40,
      "metadata": {
        "colab": {
          "base_uri": "https://localhost:8080/",
          "height": 240
        },
        "id": "-V_lks4irLlk",
        "outputId": "6f29a254-ded1-4814-d810-008aaa91ec32"
      },
      "outputs": [
        {
          "data": {
            "text/plain": [
              "0    fortis\n",
              "1    fortis\n",
              "2    fortis\n",
              "3    fortis\n",
              "4    fortis\n",
              "Name: species, dtype: object"
            ]
          },
          "execution_count": 40,
          "metadata": {},
          "output_type": "execute_result"
        }
      ],
      "source": [
        "# Isolate the target variable 'species' into the variable 'y'\n",
        "y = finches['species']\n",
        "\n",
        "# Display the first 5 rows of the target variable\n",
        "y.head()"
      ]
    },
    {
      "cell_type": "code",
      "execution_count": 41,
      "metadata": {
        "id": "HUaeh0dhrLlk"
      },
      "outputs": [],
      "source": [
        "# Split the data into training and testing sets, with 20% of the data used for testing\n",
        "X_train, X_test, y_train, y_test = train_test_split(X, y, test_size=0.2)"
      ]
    },
    {
      "cell_type": "markdown",
      "metadata": {
        "id": "j7kxCkHErLlk"
      },
      "source": [
        "#### **Phase III:** Penguin Classification with a Multilayer Perceptron (MLP)"
      ]
    },
    {
      "cell_type": "code",
      "execution_count": 42,
      "metadata": {
        "colab": {
          "base_uri": "https://localhost:8080/"
        },
        "id": "zSRzqJugrLll",
        "outputId": "afe29072-8912-4e16-9551-8a666516d31a",
        "vscode": {
          "languageId": "ruby"
        }
      },
      "outputs": [
        {
          "name": "stdout",
          "output_type": "stream",
          "text": [
            "Best parameters: {'activation': 'relu', 'hidden_layer_sizes': (50, 25), 'max_iter': 1000, 'solver': 'adam'}\n",
            "Best cross-validation accuracy: 0.9749\n"
          ]
        }
      ],
      "source": [
        "from sklearn.model_selection import GridSearchCV\n",
        "\n",
        "# Define parameter grid\n",
        "param_grid = {\n",
        "    'hidden_layer_sizes': [(45, 15), (50, 25), (100, 50)],\n",
        "    'max_iter': [500, 1000],\n",
        "    'activation': ['relu'],\n",
        "    'solver': ['adam', 'sgd']\n",
        "}\n",
        "\n",
        "# Create GridSearchCV object\n",
        "grid_search = GridSearchCV(estimator=mlp, param_grid=param_grid, cv=5, scoring='accuracy', n_jobs=-1)\n",
        "\n",
        "# Fit the grid search\n",
        "grid_search.fit(X_train, y_train)\n",
        "\n",
        "# Print the best parameters and score\n",
        "print(f\"Best parameters: {grid_search.best_params_}\")\n",
        "print(f\"Best cross-validation accuracy: {grid_search.best_score_:.4f}\")"
      ]
    },
    {
      "cell_type": "code",
      "execution_count": 43,
      "metadata": {
        "vscode": {
          "languageId": "ruby"
        }
      },
      "outputs": [
        {
          "name": "stdout",
          "output_type": "stream",
          "text": [
            "Training Accuracy: 0.9747\n",
            "Test Accuracy: 0.9600\n"
          ]
        }
      ],
      "source": [
        "# Create and configure the MLPClassifier with two hidden layers (100 and 50 neurons), ReLU activation, Adam solver, and max_iter set to 1000\n",
        "mlp = MLPClassifier(hidden_layer_sizes=(50, 25), activation='relu', solver='adam', max_iter=1000)\n",
        "\n",
        "# Train the model using the training data\n",
        "mlp.fit(X_train, y_train)\n",
        "\n",
        "# Calculate accuracy on both training and test datasets\n",
        "train_accuracy = accuracy_score(y_train, mlp.predict(X_train))\n",
        "test_accuracy = accuracy_score(y_test, mlp.predict(X_test))\n",
        "\n",
        "# Print the training and testing accuracy\n",
        "print(f\"Training Accuracy: {train_accuracy:.4f}\")\n",
        "print(f\"Test Accuracy: {test_accuracy:.4f}\")\n",
        "\n",
        "# Make predictions on the test set\n",
        "y_pred = mlp.predict(X_test)"
      ]
    },
    {
      "cell_type": "code",
      "execution_count": 44,
      "metadata": {
        "colab": {
          "base_uri": "https://localhost:8080/"
        },
        "id": "UKI4VEpKrLll",
        "outputId": "66ab036d-6e47-4ec4-e119-a661d971a290"
      },
      "outputs": [
        {
          "data": {
            "text/plain": [
              "array([[26,  1],\n",
              "       [ 1, 22]])"
            ]
          },
          "execution_count": 44,
          "metadata": {},
          "output_type": "execute_result"
        }
      ],
      "source": [
        "# Display the confusion matrix of the 'mlp' classification model using the 'confusion_matrix' method\n",
        "# Use 'y_test' and 'y_pred' as arguments for the 'confusion_matrix' function\n",
        "confusion_matrix(y_test, y_pred)"
      ]
    },
    {
      "cell_type": "code",
      "execution_count": 45,
      "metadata": {
        "colab": {
          "base_uri": "https://localhost:8080/",
          "height": 617
        },
        "id": "TCz9tkCE1Qnj",
        "outputId": "ae9de7dd-f87c-49f2-eb45-9b379400a347"
      },
      "outputs": [
        {
          "data": {
            "image/png": "[encoded data removed]",
            "text/plain": [
              "<Figure size 800x600 with 2 Axes>"
            ]
          },
          "metadata": {},
          "output_type": "display_data"
        }
      ],
      "source": [
        "# Proceed to plot the confusion matrix\n",
        "\n",
        "import seaborn as sns\n",
        "# Display the confusion matrix of the 'mlp' classification model using the 'confusion_matrix' method\n",
        "# Use 'y_test' and 'y_pred' as arguments for the 'confusion_matrix' function\n",
        "cm = confusion_matrix(y_test, y_pred)\n",
        "\n",
        "# Plot the confusion matrix using seaborn\n",
        "plt.figure(figsize=(8, 6))\n",
        "sns.heatmap(cm, annot=True, fmt=\"d\", cmap=\"Blues\",\n",
        "            xticklabels=mlp.classes_,\n",
        "            yticklabels=mlp.classes_)\n",
        "plt.xlabel('\\nPrediction\\n')\n",
        "plt.ylabel('\\nActual\\n')\n",
        "plt.title('Confusion Matrix\\n')\n",
        "plt.show()"
      ]
    },
    {
      "cell_type": "code",
      "execution_count": 46,
      "metadata": {
        "colab": {
          "base_uri": "https://localhost:8080/"
        },
        "id": "nRZ2WbRarLll",
        "outputId": "0e45e5ed-76d8-4089-ee73-9e7a7fdef54d"
      },
      "outputs": [
        {
          "name": "stdout",
          "output_type": "stream",
          "text": [
            "              precision    recall  f1-score   support\n",
            "\n",
            "      fortis       0.96      0.96      0.96        27\n",
            "    scandens       0.96      0.96      0.96        23\n",
            "\n",
            "    accuracy                           0.96        50\n",
            "   macro avg       0.96      0.96      0.96        50\n",
            "weighted avg       0.96      0.96      0.96        50\n",
            "\n"
          ]
        }
      ],
      "source": [
        "# Print the classification report to evaluate the model's performance\n",
        "# The report includes precision, recall, and F1-score for each class in the test set\n",
        "print(classification_report(y_test, y_pred))"
      ]
    },
    {
      "cell_type": "code",
      "execution_count": 47,
      "metadata": {
        "colab": {
          "base_uri": "https://localhost:8080/"
        },
        "id": "OoLrwxuTrLlm",
        "outputId": "67aba972-8f75-4360-aac8-ca0f0eeefa84"
      },
      "outputs": [
        {
          "data": {
            "text/plain": [
              "array(['fortis'], dtype='<U8')"
            ]
          },
          "execution_count": 47,
          "metadata": {},
          "output_type": "execute_result"
        }
      ],
      "source": [
        "# Create a new DataFrame for a finch with given beak length ('blength') and beak depth ('bdepth')\n",
        "new_finch = pd.DataFrame([[10.0, 8.5]], columns=['blength', 'bdepth'])\n",
        "\n",
        "# Use the trained MLP model to make a prediction for the new finch data\n",
        "nueva_prediccion = mlp.predict(new_finch)\n",
        "\n",
        "# Display the predicted species for the new finch based on the model\n",
        "nueva_prediccion"
      ]
    }
  ],
  "metadata": {
    "colab": {
      "provenance": []
    },
    "kernelspec": {
      "display_name": "venv",
      "language": "python",
      "name": "python3"
    },
    "language_info": {
      "codemirror_mode": {
        "name": "ipython",
        "version": 3
      },
      "file_extension": ".py",
      "mimetype": "text/x-python",
      "name": "python",
      "nbconvert_exporter": "python",
      "pygments_lexer": "ipython3",
      "version": "3.12.6"
    }
  },
  "nbformat": 4,
  "nbformat_minor": 0
}
